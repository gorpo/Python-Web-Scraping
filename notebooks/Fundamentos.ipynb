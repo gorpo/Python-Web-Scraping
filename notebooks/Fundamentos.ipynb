{
 "cells": [
  {
   "cell_type": "markdown",
   "metadata": {},
   "source": [
    "# Web Scraping com Python\n",
    "\n",
    "## Introdução\n",
    "\n",
    "Website: **https://pythonwebscraping.netlify.com/**\n",
    "\n",
    "Começamos importando as bibliotecas essenciais para trabalharmos com **Web Scraping**"
   ]
  },
  {
   "cell_type": "code",
   "execution_count": 1,
   "metadata": {},
   "outputs": [],
   "source": [
    "# A Biblioteca requests nos permite fazer requisições HTTP de forma a obtermos o conteúdo html\n",
    "import requests \n",
    "# A Biblioteca re nos permite trabalharmos com expressões regulares para que possamos buscar padrões nos textos\n",
    "import re"
   ]
  },
  {
   "cell_type": "markdown",
   "metadata": {},
   "source": [
    "### Requisição HTTP"
   ]
  },
  {
   "cell_type": "code",
   "execution_count": 2,
   "metadata": {},
   "outputs": [
    {
     "name": "stdout",
     "output_type": "stream",
     "text": [
      "<class 'requests.models.Response'>\n"
     ]
    }
   ],
   "source": [
    "# Começamos executando uma requisição GET para obtermos o conteúdo HTML do website\n",
    "r = requests.get('https://pythonwebscraping.netlify.com/')\n",
    "print(type(r))"
   ]
  },
  {
   "cell_type": "code",
   "execution_count": 3,
   "metadata": {},
   "outputs": [
    {
     "data": {
      "text/plain": [
       "['__attrs__',\n",
       " '__bool__',\n",
       " '__class__',\n",
       " '__delattr__',\n",
       " '__dict__',\n",
       " '__dir__',\n",
       " '__doc__',\n",
       " '__enter__',\n",
       " '__eq__',\n",
       " '__exit__',\n",
       " '__format__',\n",
       " '__ge__',\n",
       " '__getattribute__',\n",
       " '__getstate__',\n",
       " '__gt__',\n",
       " '__hash__',\n",
       " '__init__',\n",
       " '__init_subclass__',\n",
       " '__iter__',\n",
       " '__le__',\n",
       " '__lt__',\n",
       " '__module__',\n",
       " '__ne__',\n",
       " '__new__',\n",
       " '__nonzero__',\n",
       " '__reduce__',\n",
       " '__reduce_ex__',\n",
       " '__repr__',\n",
       " '__setattr__',\n",
       " '__setstate__',\n",
       " '__sizeof__',\n",
       " '__str__',\n",
       " '__subclasshook__',\n",
       " '__weakref__',\n",
       " '_content',\n",
       " '_content_consumed',\n",
       " '_next',\n",
       " 'apparent_encoding',\n",
       " 'close',\n",
       " 'connection',\n",
       " 'content',\n",
       " 'cookies',\n",
       " 'elapsed',\n",
       " 'encoding',\n",
       " 'headers',\n",
       " 'history',\n",
       " 'is_permanent_redirect',\n",
       " 'is_redirect',\n",
       " 'iter_content',\n",
       " 'iter_lines',\n",
       " 'json',\n",
       " 'links',\n",
       " 'next',\n",
       " 'ok',\n",
       " 'raise_for_status',\n",
       " 'raw',\n",
       " 'reason',\n",
       " 'request',\n",
       " 'status_code',\n",
       " 'text',\n",
       " 'url']"
      ]
     },
     "execution_count": 3,
     "metadata": {},
     "output_type": "execute_result"
    }
   ],
   "source": [
    "# Inspecionamos o objeto 'requests.models.Response'\n",
    "dir(r)"
   ]
  },
  {
   "cell_type": "code",
   "execution_count": 5,
   "metadata": {},
   "outputs": [
    {
     "data": {
      "text/plain": [
       "b'<!DOCTYPE html>\\n<html>\\n<head>\\n\\t<meta charset=\"UTF-8\">\\n\\t<title>Web Scraping Tutorial com Python</title>\\n\\t<link rel=\"icon\" href=\"https://i.imgur.com/QOVnf5D.png\">\\n\\t<style>\\n\\t.python {\\n\\t\\tcolor: purple;\\n\\t}\\n\\t#titulo {\\n\\t\\ttext-transform: uppercase;\\n\\t}\\n\\ttable {\\n\\t  border-collapse: collapse;\\n\\t}\\n\\n\\ttable, th, td {\\n\\t  border: 1px solid black;\\n\\t  padding: 3px;\\n\\t}\\n\\t</style>\\n</head>\\n<body>\\n\\t<h1>Web Scraping</h1>\\n\\t<h2>Estrutura B\\xc3\\xa1sica HTML</h2>\\n\\t<img src=\"https://www.crummy.com/software/BeautifulSoup/bs4/doc/_images/6.1.jpg\">\\n\\t<p>Aprendendo Web Scraping com <a href=\"https://www.python.org/\">Python</a>,\\n\\t<a href=\"https://github.com/psf/requests-html\">Requests-HTML</a>,\\n\\t<a href=\"https://www.crummy.com/software/BeautifulSoup/bs4/doc/\">Beautiful Soup</a> e\\n\\t<a href=\"https://scrapy.org/\">Scrapy</a>\\n\\t</p>\\n\\n\\t<p>\\xe2\\x80\\x9cLogic will get you from A to Z; imagination will get you everywhere.\\xe2\\x80\\x9d <b>Albert Einstein</b></p>\\n\\t\\n\\t<h3 id=\\'titulo\\'>Linguagens de Programa\\xc3\\xa7\\xc3\\xa3o</h3>\\n\\t<ul>\\n\\t\\t<li class=\"python\">Python</li>\\n\\t\\t<li>Perl</li>\\n\\t\\t<li>PHP</li>\\n\\t</ul> \\n\\t\\n\\t<h3 id=\\'titulo\\'>Grandes Matem\\xc3\\xa1ticos</h3>\\n\\t<table>\\n\\t\\t<tr>\\n\\t\\t\\t<th>Nome</th>\\n\\t\\t\\t<th>Sobrenome</th>\\n\\t\\t\\t<th>Email</th>\\n\\t\\t</tr>\\n\\t\\t<tr>\\n\\t\\t\\t<td>Alan</td>\\n\\t\\t\\t<td>Turing</td>\\n\\t\\t\\t<td>alan@turing.com</td>\\n\\t\\t</tr>\\n\\t\\t<tr>\\n\\t\\t\\t<td>John</td>\\n\\t\\t\\t<td>von Neumann</td>\\n\\t\\t\\t<td>john@voneumann.com</td>\\n\\t\\t</tr>\\n\\t\\t<tr>\\n\\t\\t\\t<td>Blaise</td>\\n\\t\\t\\t<td>Pascal</td>\\n\\t\\t\\t<td>blaise@pascal.com</td>\\n\\t\\t</tr>\\n\\t</table>\\n</body>\\n</html>\\n'"
      ]
     },
     "execution_count": 5,
     "metadata": {},
     "output_type": "execute_result"
    }
   ],
   "source": [
    "# Verificando o conteúdo\n",
    "r.content"
   ]
  },
  {
   "cell_type": "code",
   "execution_count": 6,
   "metadata": {},
   "outputs": [
    {
     "data": {
      "text/plain": [
       "'UTF-8'"
      ]
     },
     "execution_count": 6,
     "metadata": {},
     "output_type": "execute_result"
    }
   ],
   "source": [
    "# Verificando seu tipo de codificação\n",
    "r.encoding"
   ]
  },
  {
   "cell_type": "code",
   "execution_count": 7,
   "metadata": {},
   "outputs": [
    {
     "data": {
      "text/plain": [
       "{'Cache-Control': 'public, max-age=0, must-revalidate', 'Content-Type': 'text/html; charset=UTF-8', 'Date': 'Tue, 22 Oct 2019 19:48:53 GMT', 'Etag': '\"475162527e495373465cb3f752d1c3ff-ssl-df\"', 'Strict-Transport-Security': 'max-age=31536000', 'Content-Encoding': 'gzip', 'Content-Length': '743', 'Age': '18870', 'Connection': 'keep-alive', 'Server': 'Netlify', 'Vary': 'Accept-Encoding', 'X-NF-Request-ID': 'b4580cd5-aca0-4b46-ab5a-ed9540b362d8-12694057'}"
      ]
     },
     "execution_count": 7,
     "metadata": {},
     "output_type": "execute_result"
    }
   ],
   "source": [
    "# Verificando detalhes sobre seus headers\n",
    "r.headers"
   ]
  },
  {
   "cell_type": "code",
   "execution_count": 8,
   "metadata": {},
   "outputs": [
    {
     "data": {
      "text/plain": [
       "200"
      ]
     },
     "execution_count": 8,
     "metadata": {},
     "output_type": "execute_result"
    }
   ],
   "source": [
    "# Verificando o status_code, 200 significa que a requisição ocorreu com sucesso\n",
    "r.status_code"
   ]
  },
  {
   "cell_type": "code",
   "execution_count": 9,
   "metadata": {},
   "outputs": [
    {
     "data": {
      "text/plain": [
       "'https://pythonwebscraping.netlify.com/'"
      ]
     },
     "execution_count": 9,
     "metadata": {},
     "output_type": "execute_result"
    }
   ],
   "source": [
    "# Verificando a url que foi utilizada\n",
    "r.url"
   ]
  },
  {
   "cell_type": "code",
   "execution_count": 9,
   "metadata": {},
   "outputs": [
    {
     "data": {
      "text/plain": [
       "'<!DOCTYPE html>\\n<html>\\n<head>\\n\\t<meta charset=\"UTF-8\">\\n\\t<title>Web Scraping Tutorial com Python</title>\\n\\t<link rel=\"icon\" href=\"https://i.imgur.com/QOVnf5D.png\">\\n\\t<style>\\n\\t.python {\\n\\t\\tcolor: purple;\\n\\t}\\n\\t#titulo {\\n\\t\\ttext-transform: uppercase;\\n\\t}\\n\\ttable {\\n\\t  border-collapse: collapse;\\n\\t}\\n\\n\\ttable, th, td {\\n\\t  border: 1px solid black;\\n\\t  padding: 3px;\\n\\t}\\n\\t</style>\\n</head>\\n<body>\\n\\t<h1>Web Scraping</h1>\\n\\t<h2>Estrutura Básica HTML</h2>\\n\\t<img src=\"https://www.crummy.com/software/BeautifulSoup/bs4/doc/_images/6.1.jpg\">\\n\\t<p>Aprendendo Web Scraping com <a href=\"https://www.python.org/\">Python</a>,\\n\\t<a href=\"https://github.com/psf/requests-html\">Requests-HTML</a>,\\n\\t<a href=\"https://www.crummy.com/software/BeautifulSoup/bs4/doc/\">Beautiful Soup</a> e\\n\\t<a href=\"https://scrapy.org/\">Scrapy</a>\\n\\t</p>\\n\\n\\t<p>“Logic will get you from A to Z; imagination will get you everywhere.” <b>Albert Einstein</b></p>\\n\\t\\n\\t<h3 id=\\'titulo\\'>Linguagens de Programação</h3>\\n\\t<ul>\\n\\t\\t<li class=\"python\">Python</li>\\n\\t\\t<li>Perl</li>\\n\\t\\t<li>PHP</li>\\n\\t</ul> \\n\\t\\n\\t<h3 id=\\'titulo\\'>Grandes Matemáticos</h3>\\n\\t<table>\\n\\t\\t<tr>\\n\\t\\t\\t<th>Nome</th>\\n\\t\\t\\t<th>Sobrenome</th>\\n\\t\\t\\t<th>Email</th>\\n\\t\\t</tr>\\n\\t\\t<tr>\\n\\t\\t\\t<td>Alan</td>\\n\\t\\t\\t<td>Turing</td>\\n\\t\\t\\t<td>alan@turing.com</td>\\n\\t\\t</tr>\\n\\t\\t<tr>\\n\\t\\t\\t<td>John</td>\\n\\t\\t\\t<td>von Neumann</td>\\n\\t\\t\\t<td>john@voneumann.com</td>\\n\\t\\t</tr>\\n\\t\\t<tr>\\n\\t\\t\\t<td>Blaise</td>\\n\\t\\t\\t<td>Pascal</td>\\n\\t\\t\\t<td>blaise@pascal.com</td>\\n\\t\\t</tr>\\n\\t</table>\\n</body>\\n</html>\\n'"
      ]
     },
     "execution_count": 9,
     "metadata": {},
     "output_type": "execute_result"
    }
   ],
   "source": [
    "# Por fim o atributo 'text' nos traz uma string que representa o documento html que desejamos executar o Web Scraping\n",
    "r.text"
   ]
  },
  {
   "cell_type": "code",
   "execution_count": 10,
   "metadata": {},
   "outputs": [],
   "source": [
    "# Guardando o conteúdo html em uma variável\n",
    "html = r.text"
   ]
  },
  {
   "cell_type": "markdown",
   "metadata": {},
   "source": [
    "### Buscando Dados com Expressões Regulares"
   ]
  },
  {
   "cell_type": "markdown",
   "metadata": {},
   "source": [
    "#### Título da Página"
   ]
  },
  {
   "cell_type": "code",
   "execution_count": 11,
   "metadata": {},
   "outputs": [],
   "source": [
    "title = re.findall(r\"<title>(.+?)</title>\", html)"
   ]
  },
  {
   "cell_type": "code",
   "execution_count": 12,
   "metadata": {},
   "outputs": [
    {
     "data": {
      "text/plain": [
       "['Web Scraping Tutorial com Python']"
      ]
     },
     "execution_count": 12,
     "metadata": {},
     "output_type": "execute_result"
    }
   ],
   "source": [
    "title"
   ]
  },
  {
   "cell_type": "markdown",
   "metadata": {},
   "source": [
    "#### Parágrafos da Página"
   ]
  },
  {
   "cell_type": "code",
   "execution_count": 13,
   "metadata": {},
   "outputs": [],
   "source": [
    "p = re.findall(r\"<p>(.*?)</p>\", html, flags=re.DOTALL) "
   ]
  },
  {
   "cell_type": "code",
   "execution_count": 14,
   "metadata": {},
   "outputs": [
    {
     "data": {
      "text/plain": [
       "['Aprendendo Web Scraping com <a href=\"https://www.python.org/\">Python</a>,\\n\\t<a href=\"https://github.com/psf/requests-html\">Requests-HTML</a>,\\n\\t<a href=\"https://www.crummy.com/software/BeautifulSoup/bs4/doc/\">Beautiful Soup</a> e\\n\\t<a href=\"https://scrapy.org/\">Scrapy</a>\\n\\t',\n",
       " '“Logic will get you from A to Z; imagination will get you everywhere.” <b>Albert Einstein</b>']"
      ]
     },
     "execution_count": 14,
     "metadata": {},
     "output_type": "execute_result"
    }
   ],
   "source": [
    "p"
   ]
  },
  {
   "cell_type": "markdown",
   "metadata": {},
   "source": [
    "#### Links da Página"
   ]
  },
  {
   "cell_type": "code",
   "execution_count": 15,
   "metadata": {},
   "outputs": [],
   "source": [
    "a = re.findall(r'href=[\\'\"]?([^\\'\" >]+)', html)"
   ]
  },
  {
   "cell_type": "code",
   "execution_count": 16,
   "metadata": {},
   "outputs": [
    {
     "data": {
      "text/plain": [
       "['https://i.imgur.com/QOVnf5D.png',\n",
       " 'https://www.python.org/',\n",
       " 'https://github.com/psf/requests-html',\n",
       " 'https://www.crummy.com/software/BeautifulSoup/bs4/doc/',\n",
       " 'https://scrapy.org/']"
      ]
     },
     "execution_count": 16,
     "metadata": {},
     "output_type": "execute_result"
    }
   ],
   "source": [
    "a"
   ]
  },
  {
   "cell_type": "markdown",
   "metadata": {},
   "source": [
    "#### Emails da Página"
   ]
  },
  {
   "cell_type": "code",
   "execution_count": 17,
   "metadata": {},
   "outputs": [],
   "source": [
    "emails = re.findall(r'([\\d\\w\\.]+@[\\d\\w\\.\\-]+\\.\\w+)', html)"
   ]
  },
  {
   "cell_type": "code",
   "execution_count": 18,
   "metadata": {},
   "outputs": [
    {
     "data": {
      "text/plain": [
       "['alan@turing.com', 'john@voneumann.com', 'blaise@pascal.com']"
      ]
     },
     "execution_count": 18,
     "metadata": {},
     "output_type": "execute_result"
    }
   ],
   "source": [
    "emails"
   ]
  }
 ],
 "metadata": {
  "kernelspec": {
   "display_name": "Python 3",
   "language": "python",
   "name": "python3"
  },
  "language_info": {
   "codemirror_mode": {
    "name": "ipython",
    "version": 3
   },
   "file_extension": ".py",
   "mimetype": "text/x-python",
   "name": "python",
   "nbconvert_exporter": "python",
   "pygments_lexer": "ipython3",
   "version": "3.7.4"
  }
 },
 "nbformat": 4,
 "nbformat_minor": 2
}
