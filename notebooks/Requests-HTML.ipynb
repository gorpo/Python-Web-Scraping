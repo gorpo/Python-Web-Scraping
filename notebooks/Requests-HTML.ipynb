{
 "cells": [
  {
   "cell_type": "markdown",
   "metadata": {},
   "source": [
    "# A Biblioteca Requests-HTML\n",
    "\n",
    "Esta biblioteca tem como objetivo tornar a análise de HTML (por exemplo: **Web Scraping**) o mais simples e intuitiva possível.\n",
    "\n",
    "Para fazermos a instalação é muito simples:\n",
    "\n",
    "pip install requests-html\n",
    "\n",
    "Uma vez instalada, podemos importá-la para começarmos a trabalhar!"
   ]
  },
  {
   "cell_type": "code",
   "execution_count": 1,
   "metadata": {},
   "outputs": [],
   "source": [
    "from requests_html import HTMLSession"
   ]
  },
  {
   "cell_type": "code",
   "execution_count": 2,
   "metadata": {},
   "outputs": [],
   "source": [
    "# Construímos nosso objeto session\n",
    "session = HTMLSession()"
   ]
  },
  {
   "cell_type": "code",
   "execution_count": 15,
   "metadata": {},
   "outputs": [
    {
     "data": {
      "text/plain": [
       "requests_html.HTMLSession"
      ]
     },
     "execution_count": 15,
     "metadata": {},
     "output_type": "execute_result"
    }
   ],
   "source": [
    "# Verificamos o tipo dele\n",
    "type(session)"
   ]
  },
  {
   "cell_type": "code",
   "execution_count": 16,
   "metadata": {},
   "outputs": [
    {
     "data": {
      "text/plain": [
       "['_BaseSession__browser_args',\n",
       " '__attrs__',\n",
       " '__class__',\n",
       " '__delattr__',\n",
       " '__dict__',\n",
       " '__dir__',\n",
       " '__doc__',\n",
       " '__enter__',\n",
       " '__eq__',\n",
       " '__exit__',\n",
       " '__format__',\n",
       " '__ge__',\n",
       " '__getattribute__',\n",
       " '__getstate__',\n",
       " '__gt__',\n",
       " '__hash__',\n",
       " '__init__',\n",
       " '__init_subclass__',\n",
       " '__le__',\n",
       " '__lt__',\n",
       " '__module__',\n",
       " '__ne__',\n",
       " '__new__',\n",
       " '__reduce__',\n",
       " '__reduce_ex__',\n",
       " '__repr__',\n",
       " '__setattr__',\n",
       " '__setstate__',\n",
       " '__sizeof__',\n",
       " '__str__',\n",
       " '__subclasshook__',\n",
       " '__weakref__',\n",
       " 'adapters',\n",
       " 'auth',\n",
       " 'browser',\n",
       " 'cert',\n",
       " 'close',\n",
       " 'cookies',\n",
       " 'delete',\n",
       " 'get',\n",
       " 'get_adapter',\n",
       " 'get_redirect_target',\n",
       " 'head',\n",
       " 'headers',\n",
       " 'hooks',\n",
       " 'max_redirects',\n",
       " 'merge_environment_settings',\n",
       " 'mount',\n",
       " 'options',\n",
       " 'params',\n",
       " 'patch',\n",
       " 'post',\n",
       " 'prepare_request',\n",
       " 'proxies',\n",
       " 'put',\n",
       " 'rebuild_auth',\n",
       " 'rebuild_method',\n",
       " 'rebuild_proxies',\n",
       " 'request',\n",
       " 'resolve_redirects',\n",
       " 'response_hook',\n",
       " 'send',\n",
       " 'should_strip_auth',\n",
       " 'stream',\n",
       " 'trust_env',\n",
       " 'verify']"
      ]
     },
     "execution_count": 16,
     "metadata": {},
     "output_type": "execute_result"
    }
   ],
   "source": [
    "# Investigando atributos e métodos disponíveis\n",
    "dir(session)"
   ]
  },
  {
   "cell_type": "code",
   "execution_count": 5,
   "metadata": {},
   "outputs": [],
   "source": [
    "# Executando uma requisição GET para 'pythonwebscraping.netlify.com'\n",
    "r = session.get('https://pythonwebscraping.netlify.com/')"
   ]
  },
  {
   "cell_type": "code",
   "execution_count": 17,
   "metadata": {},
   "outputs": [
    {
     "name": "stdout",
     "output_type": "stream",
     "text": [
      "<class 'set'>\n"
     ]
    },
    {
     "data": {
      "text/plain": [
       "{'https://github.com/psf/requests-html',\n",
       " 'https://scrapy.org/',\n",
       " 'https://www.crummy.com/software/BeautifulSoup/bs4/doc/',\n",
       " 'https://www.python.org/'}"
      ]
     },
     "execution_count": 17,
     "metadata": {},
     "output_type": "execute_result"
    }
   ],
   "source": [
    "# r.html.links representa um conjunto com todos os links da página\n",
    "print(type(r.html.links))\n",
    "r.html.links"
   ]
  },
  {
   "cell_type": "code",
   "execution_count": 18,
   "metadata": {},
   "outputs": [
    {
     "name": "stdout",
     "output_type": "stream",
     "text": [
      "https://www.python.org/\n",
      "https://github.com/psf/requests-html\n",
      "https://www.crummy.com/software/BeautifulSoup/bs4/doc/\n",
      "https://scrapy.org/\n"
     ]
    }
   ],
   "source": [
    "# r.html.absolute_links representa um conjunto com todos os links absolutos da página\n",
    "# Através do for loop podemos extrair somente os links\n",
    "for links in r.html.absolute_links:\n",
    "    print(links)"
   ]
  },
  {
   "cell_type": "code",
   "execution_count": 19,
   "metadata": {},
   "outputs": [],
   "source": [
    "# Podemos buscar um elemento através do seu id\n",
    "titulo = r.html.find('#titulo')"
   ]
  },
  {
   "cell_type": "code",
   "execution_count": 20,
   "metadata": {},
   "outputs": [
    {
     "name": "stdout",
     "output_type": "stream",
     "text": [
      "Linguagens de Programação\n",
      "Grandes Matemáticos\n"
     ]
    }
   ],
   "source": [
    "for t in titulo:\n",
    "    print(t.text)"
   ]
  },
  {
   "cell_type": "code",
   "execution_count": 21,
   "metadata": {},
   "outputs": [
    {
     "name": "stdout",
     "output_type": "stream",
     "text": [
      "Python\n"
     ]
    }
   ],
   "source": [
    "# Podemos buscar um elemento através de sua classe\n",
    "python = r.html.find('.python')\n",
    "for p in python:\n",
    "    print(p.text)"
   ]
  },
  {
   "cell_type": "code",
   "execution_count": 22,
   "metadata": {},
   "outputs": [
    {
     "name": "stdout",
     "output_type": "stream",
     "text": [
      "Python\n",
      "Perl\n",
      "PHP\n"
     ]
    }
   ],
   "source": [
    "# Podemos buscar um elemento pelo seu nome\n",
    "lista = r.html.find('li')\n",
    "for l in lista:\n",
    "    print(l.text)"
   ]
  },
  {
   "cell_type": "code",
   "execution_count": 23,
   "metadata": {},
   "outputs": [
    {
     "data": {
      "text/plain": [
       "'https://www.crummy.com/software/BeautifulSoup/bs4/doc/_images/6.1.jpg'"
      ]
     },
     "execution_count": 23,
     "metadata": {},
     "output_type": "execute_result"
    }
   ],
   "source": [
    "# Podemos buscar um elemento <img> e obter somente o conteúdo do atributo 'src'\n",
    "r.html.find('img', first=True).attrs['src']"
   ]
  },
  {
   "cell_type": "code",
   "execution_count": 24,
   "metadata": {},
   "outputs": [
    {
     "name": "stdout",
     "output_type": "stream",
     "text": [
      "Alan\n",
      "Turing\n",
      "alan@turing.com\n",
      "John\n",
      "von Neumann\n",
      "john@voneumann.com\n",
      "Blaise\n",
      "Pascal\n",
      "blaise@pascal.com\n"
     ]
    }
   ],
   "source": [
    "# Buscando todos os elementos <td> de nossa página web\n",
    "td = r.html.find('td')\n",
    "for t in td:\n",
    "    print(t.text)"
   ]
  }
 ],
 "metadata": {
  "kernelspec": {
   "display_name": "Python 3",
   "language": "python",
   "name": "python3"
  },
  "language_info": {
   "codemirror_mode": {
    "name": "ipython",
    "version": 3
   },
   "file_extension": ".py",
   "mimetype": "text/x-python",
   "name": "python",
   "nbconvert_exporter": "python",
   "pygments_lexer": "ipython3",
   "version": "3.7.4"
  }
 },
 "nbformat": 4,
 "nbformat_minor": 2
}
