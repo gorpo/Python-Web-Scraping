{
 "cells": [
  {
   "cell_type": "markdown",
   "metadata": {},
   "source": [
    "# XML Parsing\n",
    "\n",
    "Neste tutorial, vamos executar alguns experimentos com um arquivo chamado `livros.xml`\n",
    "\n",
    "Para tais tarefas, utilizaremos as bibliotecas:\n",
    "\n",
    "- **Requests:** De forma a obtermos o **arquivo xml** localizado em **https://pythonwebscraping.netlify.com/livros.xml**\n",
    "- **Beautiful Soup:** Para executarmos buscas em nosso arquivo\n",
    "- **xml:** Para executarmos consultas e manipular os elementos de nosso arquivo"
   ]
  },
  {
   "cell_type": "code",
   "execution_count": 26,
   "metadata": {},
   "outputs": [],
   "source": [
    "import requests\n",
    "from bs4 import BeautifulSoup\n",
    "import xml.etree.ElementTree as et "
   ]
  },
  {
   "cell_type": "code",
   "execution_count": 27,
   "metadata": {},
   "outputs": [],
   "source": [
    "r = requests.get('https://pythonwebscraping.netlify.com/livros.xml')"
   ]
  },
  {
   "cell_type": "code",
   "execution_count": 28,
   "metadata": {},
   "outputs": [
    {
     "data": {
      "text/plain": [
       "'<biblioteca>\\n\\t<livro categoria=\"Cyber Punk\">\\n\\t\\t<titulo lang=\"en\">Neuromancer</titulo>\\n\\t\\t<autor>William Gibson</autor>\\n\\t\\t<ano>1984</ano>\\n\\t</livro>\\n\\t<livro categoria=\"Distopia\">\\n\\t\\t<titulo lang=\"en\">Nineteen Eighty-Four: A Novel</titulo>\\n\\t\\t<autor>George Orwell</autor>\\n\\t\\t<ano>1949</ano>\\n\\t</livro>\\n\\t<livro categoria=\"Ciência da Computação\">\\n\\t\\t<titulo lang=\"en\">How to Think Like a Computer Scientist</titulo>\\n\\t\\t<autor>Peter Wentworth, Jeffrey Elkner, Allen B. Downey, and Chris Meyers</autor>\\n\\t\\t<ano>2012</ano>\\n\\t</livro>\\n\\t<livro categoria=\"Programação\">\\n\\t\\t<titulo lang=\"en\">Making Games with Python and Pygame</titulo>\\n\\t\\t<autor>AI Sweigart</autor>\\n\\t\\t<ano>2012</ano>\\n\\t</livro>\\n</biblioteca>\\n'"
      ]
     },
     "execution_count": 28,
     "metadata": {},
     "output_type": "execute_result"
    }
   ],
   "source": [
    "# Obtendo a string de nosso arquivo\n",
    "r.text"
   ]
  },
  {
   "cell_type": "code",
   "execution_count": 29,
   "metadata": {},
   "outputs": [],
   "source": [
    "# Vamos guardar a string em uma variável chamada xml\n",
    "xml = r.text"
   ]
  },
  {
   "cell_type": "code",
   "execution_count": 30,
   "metadata": {},
   "outputs": [],
   "source": [
    "# Vamos passar essa string para o construtor BeautifulSoup(), utilizaremos o parser 'xml'\n",
    "soup = BeautifulSoup(xml, \"xml\")"
   ]
  },
  {
   "cell_type": "code",
   "execution_count": 31,
   "metadata": {},
   "outputs": [
    {
     "data": {
      "text/plain": [
       "'<?xml version=\"1.0\" encoding=\"utf-8\"?>\\n<biblioteca>\\n <livro categoria=\"Cyber Punk\">\\n  <titulo lang=\"en\">\\n   Neuromancer\\n  </titulo>\\n  <autor>\\n   William Gibson\\n  </autor>\\n  <ano>\\n   1984\\n  </ano>\\n </livro>\\n <livro categoria=\"Distopia\">\\n  <titulo lang=\"en\">\\n   Nineteen Eighty-Four: A Novel\\n  </titulo>\\n  <autor>\\n   George Orwell\\n  </autor>\\n  <ano>\\n   1949\\n  </ano>\\n </livro>\\n <livro categoria=\"Ciência da Computação\">\\n  <titulo lang=\"en\">\\n   How to Think Like a Computer Scientist\\n  </titulo>\\n  <autor>\\n   Peter Wentworth, Jeffrey Elkner, Allen B. Downey, and Chris Meyers\\n  </autor>\\n  <ano>\\n   2012\\n  </ano>\\n </livro>\\n <livro categoria=\"Programação\">\\n  <titulo lang=\"en\">\\n   Making Games with Python and Pygame\\n  </titulo>\\n  <autor>\\n   AI Sweigart\\n  </autor>\\n  <ano>\\n   2012\\n  </ano>\\n </livro>\\n</biblioteca>'"
      ]
     },
     "execution_count": 31,
     "metadata": {},
     "output_type": "execute_result"
    }
   ],
   "source": [
    "# Imprimindo com o método prettify()\n",
    "soup.prettify()"
   ]
  },
  {
   "cell_type": "code",
   "execution_count": 32,
   "metadata": {},
   "outputs": [
    {
     "data": {
      "text/plain": [
       "[<livro categoria=\"Cyber Punk\">\n",
       " <titulo lang=\"en\">Neuromancer</titulo>\n",
       " <autor>William Gibson</autor>\n",
       " <ano>1984</ano>\n",
       " </livro>, <livro categoria=\"Distopia\">\n",
       " <titulo lang=\"en\">Nineteen Eighty-Four: A Novel</titulo>\n",
       " <autor>George Orwell</autor>\n",
       " <ano>1949</ano>\n",
       " </livro>, <livro categoria=\"Ciência da Computação\">\n",
       " <titulo lang=\"en\">How to Think Like a Computer Scientist</titulo>\n",
       " <autor>Peter Wentworth, Jeffrey Elkner, Allen B. Downey, and Chris Meyers</autor>\n",
       " <ano>2012</ano>\n",
       " </livro>, <livro categoria=\"Programação\">\n",
       " <titulo lang=\"en\">Making Games with Python and Pygame</titulo>\n",
       " <autor>AI Sweigart</autor>\n",
       " <ano>2012</ano>\n",
       " </livro>]"
      ]
     },
     "execution_count": 32,
     "metadata": {},
     "output_type": "execute_result"
    }
   ],
   "source": [
    "# Selecionando o conteúdo do elemento <livro>\n",
    "soup.select(\"livro\")"
   ]
  },
  {
   "cell_type": "code",
   "execution_count": 33,
   "metadata": {},
   "outputs": [
    {
     "data": {
      "text/plain": [
       "[<titulo lang=\"en\">Neuromancer</titulo>,\n",
       " <titulo lang=\"en\">Nineteen Eighty-Four: A Novel</titulo>,\n",
       " <titulo lang=\"en\">How to Think Like a Computer Scientist</titulo>,\n",
       " <titulo lang=\"en\">Making Games with Python and Pygame</titulo>]"
      ]
     },
     "execution_count": 33,
     "metadata": {},
     "output_type": "execute_result"
    }
   ],
   "source": [
    "# Selecionando os elementos <titulo>\n",
    "soup.select(\"titulo\")"
   ]
  },
  {
   "cell_type": "code",
   "execution_count": 34,
   "metadata": {},
   "outputs": [
    {
     "name": "stdout",
     "output_type": "stream",
     "text": [
      "Neuromancer\n",
      "Nineteen Eighty-Four: A Novel\n",
      "How to Think Like a Computer Scientist\n",
      "Making Games with Python and Pygame\n"
     ]
    }
   ],
   "source": [
    "# Podemos utilizar um for loop para obtermos somente o texto\n",
    "for titulo in soup.select(\"titulo\"):\n",
    "    print(titulo.text)"
   ]
  },
  {
   "cell_type": "code",
   "execution_count": 35,
   "metadata": {},
   "outputs": [
    {
     "data": {
      "text/plain": [
       "[<livro categoria=\"Cyber Punk\">\n",
       " <titulo lang=\"en\">Neuromancer</titulo>\n",
       " <autor>William Gibson</autor>\n",
       " <ano>1984</ano>\n",
       " </livro>]"
      ]
     },
     "execution_count": 35,
     "metadata": {},
     "output_type": "execute_result"
    }
   ],
   "source": [
    "# Podemos buscar pelo atributo 'categoria'\n",
    "soup.find_all(\"livro\", {\"categoria\" : \"Cyber Punk\"})"
   ]
  },
  {
   "cell_type": "code",
   "execution_count": 36,
   "metadata": {},
   "outputs": [
    {
     "data": {
      "text/plain": [
       "[<titulo lang=\"en\">Neuromancer</titulo>,\n",
       " <titulo lang=\"en\">Nineteen Eighty-Four: A Novel</titulo>,\n",
       " <titulo lang=\"en\">How to Think Like a Computer Scientist</titulo>,\n",
       " <titulo lang=\"en\">Making Games with Python and Pygame</titulo>]"
      ]
     },
     "execution_count": 36,
     "metadata": {},
     "output_type": "execute_result"
    }
   ],
   "source": [
    "# Podemos também buscar pelo atributo 'lang'\n",
    "soup.find_all(\"titulo\", {\"lang\" : \"en\"})"
   ]
  },
  {
   "cell_type": "code",
   "execution_count": 37,
   "metadata": {},
   "outputs": [
    {
     "data": {
      "text/plain": [
       "xml.etree.ElementTree.Element"
      ]
     },
     "execution_count": 37,
     "metadata": {},
     "output_type": "execute_result"
    }
   ],
   "source": [
    "# Agora vamos construir um elemento 'xml.etree.ElementTree.Element' através do método fromstring(), \n",
    "# Passaremos nossa string xml como argumento\n",
    "# A variável será chamada de tree, uma vez que ela representará uma árvore XML\n",
    "tree = et.fromstring(xml)\n",
    "type(tree)"
   ]
  },
  {
   "cell_type": "code",
   "execution_count": 38,
   "metadata": {},
   "outputs": [
    {
     "data": {
      "text/plain": [
       "['__class__',\n",
       " '__copy__',\n",
       " '__deepcopy__',\n",
       " '__delattr__',\n",
       " '__delitem__',\n",
       " '__dir__',\n",
       " '__doc__',\n",
       " '__eq__',\n",
       " '__format__',\n",
       " '__ge__',\n",
       " '__getattribute__',\n",
       " '__getitem__',\n",
       " '__getstate__',\n",
       " '__gt__',\n",
       " '__hash__',\n",
       " '__init__',\n",
       " '__init_subclass__',\n",
       " '__le__',\n",
       " '__len__',\n",
       " '__lt__',\n",
       " '__ne__',\n",
       " '__new__',\n",
       " '__reduce__',\n",
       " '__reduce_ex__',\n",
       " '__repr__',\n",
       " '__setattr__',\n",
       " '__setitem__',\n",
       " '__setstate__',\n",
       " '__sizeof__',\n",
       " '__str__',\n",
       " '__subclasshook__',\n",
       " 'append',\n",
       " 'attrib',\n",
       " 'clear',\n",
       " 'extend',\n",
       " 'find',\n",
       " 'findall',\n",
       " 'findtext',\n",
       " 'get',\n",
       " 'getchildren',\n",
       " 'getiterator',\n",
       " 'insert',\n",
       " 'items',\n",
       " 'iter',\n",
       " 'iterfind',\n",
       " 'itertext',\n",
       " 'keys',\n",
       " 'makeelement',\n",
       " 'remove',\n",
       " 'set',\n",
       " 'tag',\n",
       " 'tail',\n",
       " 'text']"
      ]
     },
     "execution_count": 38,
     "metadata": {},
     "output_type": "execute_result"
    }
   ],
   "source": [
    "# Vejamos os atributos e métodos disponíveis\n",
    "dir(tree)"
   ]
  },
  {
   "cell_type": "code",
   "execution_count": 39,
   "metadata": {},
   "outputs": [
    {
     "data": {
      "text/plain": [
       "'biblioteca'"
      ]
     },
     "execution_count": 39,
     "metadata": {},
     "output_type": "execute_result"
    }
   ],
   "source": [
    "# O atributo tag nos traz a raíz da árvore\n",
    "tree.tag"
   ]
  },
  {
   "cell_type": "code",
   "execution_count": 40,
   "metadata": {},
   "outputs": [
    {
     "name": "stdout",
     "output_type": "stream",
     "text": [
      "livro {'categoria': 'Cyber Punk'}\n",
      "livro {'categoria': 'Distopia'}\n",
      "livro {'categoria': 'Ciência da Computação'}\n",
      "livro {'categoria': 'Programação'}\n"
     ]
    }
   ],
   "source": [
    "# Através do for loop podemos buscar as tags e atributos de nossa biblioteca\n",
    "for livro in tree.findall(\"livro\"):\n",
    "    print(livro.tag, livro.attrib)"
   ]
  },
  {
   "cell_type": "code",
   "execution_count": 41,
   "metadata": {},
   "outputs": [
    {
     "name": "stdout",
     "output_type": "stream",
     "text": [
      "Neuromancer | 1984\n",
      "Nineteen Eighty-Four: A Novel | 1949\n",
      "How to Think Like a Computer Scientist | 2012\n",
      "Making Games with Python and Pygame | 2012\n"
     ]
    }
   ],
   "source": [
    "# Com o for loop, podemos acessar somente o conteúdo dos elementos\n",
    "# Nesse caso: titulo e ano\n",
    "for livro in tree.findall(\"livro\"):\n",
    "    titulo = livro.find('titulo').text\n",
    "    ano = livro.find('ano').text\n",
    "    print(f'{titulo} | {ano}')"
   ]
  },
  {
   "cell_type": "code",
   "execution_count": 42,
   "metadata": {},
   "outputs": [
    {
     "name": "stdout",
     "output_type": "stream",
     "text": [
      "William Gibson\n",
      "George Orwell\n",
      "Peter Wentworth, Jeffrey Elkner, Allen B. Downey, and Chris Meyers\n",
      "AI Sweigart\n"
     ]
    }
   ],
   "source": [
    "# Com o for loop, podemos acessar somente o conteúdo dos elementos\n",
    "# Nesse caso: autor\n",
    "for livro in tree.findall('livro'):\n",
    "    autor = livro.find('autor').text\n",
    "    print(autor)"
   ]
  },
  {
   "cell_type": "markdown",
   "metadata": {},
   "source": [
    "### Inserindo um Novo Elemento na Árvore"
   ]
  },
  {
   "cell_type": "code",
   "execution_count": 43,
   "metadata": {},
   "outputs": [],
   "source": [
    "# Criando um novo sub-elemento livro com o atributo categoria='Dystopia'\n",
    "novo_livro = et.SubElement(tree, 'livro', attrib={'categoria':'Dystopia'})\n",
    "# Criando um novo sub-elemento titulo\n",
    "novo_livro_titulo = et.SubElement(novo_livro, 'titulo')\n",
    "# Criando um novo sub-elemento autor\n",
    "novo_livro_autor = et.SubElement(novo_livro, 'autor')\n",
    "# Criando um novo sub-elemento ano\n",
    "novo_livro_ano = et.SubElement(novo_livro, 'ano')"
   ]
  },
  {
   "cell_type": "code",
   "execution_count": 44,
   "metadata": {},
   "outputs": [],
   "source": [
    "# Inserindo os respectivos textos em cada elemento\n",
    "novo_livro_titulo.text = 'Brave New World'\n",
    "novo_livro_autor.text = 'Aldous Huxley'\n",
    "novo_livro_ano.text = '1931'"
   ]
  },
  {
   "cell_type": "code",
   "execution_count": 45,
   "metadata": {},
   "outputs": [
    {
     "name": "stdout",
     "output_type": "stream",
     "text": [
      "Neuromancer William Gibson 1984\n",
      "Nineteen Eighty-Four: A Novel George Orwell 1949\n",
      "How to Think Like a Computer Scientist Peter Wentworth, Jeffrey Elkner, Allen B. Downey, and Chris Meyers 2012\n",
      "Making Games with Python and Pygame AI Sweigart 2012\n",
      "Brave New World Aldous Huxley 1931\n"
     ]
    }
   ],
   "source": [
    "# Através de um for loop vamos percorrer nossa árvore atualizada\n",
    "for livro in tree.findall('livro'):\n",
    "    titulo = livro.find('titulo').text\n",
    "    autor = livro.find('autor').text\n",
    "    ano = livro.find('ano').text\n",
    "    print(f'{titulo} {autor} {ano}')"
   ]
  },
  {
   "cell_type": "code",
   "execution_count": 46,
   "metadata": {},
   "outputs": [],
   "source": [
    "# Para escrevermos em um arquivo, será necessário\n",
    "# construirmos uma ElementTree(), para isso vamos passar 'tree' para o construtor\n",
    "root = et.ElementTree(tree)"
   ]
  },
  {
   "cell_type": "code",
   "execution_count": 49,
   "metadata": {},
   "outputs": [
    {
     "data": {
      "text/plain": [
       "['__class__',\n",
       " '__delattr__',\n",
       " '__dict__',\n",
       " '__dir__',\n",
       " '__doc__',\n",
       " '__eq__',\n",
       " '__format__',\n",
       " '__ge__',\n",
       " '__getattribute__',\n",
       " '__gt__',\n",
       " '__hash__',\n",
       " '__init__',\n",
       " '__init_subclass__',\n",
       " '__le__',\n",
       " '__lt__',\n",
       " '__module__',\n",
       " '__ne__',\n",
       " '__new__',\n",
       " '__reduce__',\n",
       " '__reduce_ex__',\n",
       " '__repr__',\n",
       " '__setattr__',\n",
       " '__sizeof__',\n",
       " '__str__',\n",
       " '__subclasshook__',\n",
       " '__weakref__',\n",
       " '_root',\n",
       " '_setroot',\n",
       " 'find',\n",
       " 'findall',\n",
       " 'findtext',\n",
       " 'getiterator',\n",
       " 'getroot',\n",
       " 'iter',\n",
       " 'iterfind',\n",
       " 'parse',\n",
       " 'write',\n",
       " 'write_c14n']"
      ]
     },
     "execution_count": 49,
     "metadata": {},
     "output_type": "execute_result"
    }
   ],
   "source": [
    "# Veja que agora temos o método **write()** disponível\n",
    "dir(root)"
   ]
  },
  {
   "cell_type": "code",
   "execution_count": 48,
   "metadata": {},
   "outputs": [],
   "source": [
    "# Salvando os dados em um arquivo 'novos_livros.xml'\n",
    "root.write('novos_livros.xml', encoding=\"utf-8\")"
   ]
  }
 ],
 "metadata": {
  "kernelspec": {
   "display_name": "Python 3",
   "language": "python",
   "name": "python3"
  },
  "language_info": {
   "codemirror_mode": {
    "name": "ipython",
    "version": 3
   },
   "file_extension": ".py",
   "mimetype": "text/x-python",
   "name": "python",
   "nbconvert_exporter": "python",
   "pygments_lexer": "ipython3",
   "version": "3.7.4"
  }
 },
 "nbformat": 4,
 "nbformat_minor": 2
}
